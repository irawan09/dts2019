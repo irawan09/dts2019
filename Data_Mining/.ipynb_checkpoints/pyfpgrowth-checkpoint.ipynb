{
 "cells": [
  {
   "cell_type": "code",
   "execution_count": 3,
   "metadata": {},
   "outputs": [],
   "source": [
    "import pyfpgrowth"
   ]
  },
  {
   "cell_type": "code",
   "execution_count": 6,
   "metadata": {},
   "outputs": [],
   "source": [
    "transactions = [[1, 2, 5],\n",
    "                [2, 4],\n",
    "                [2, 3],\n",
    "                [1, 2, 4],\n",
    "                [1, 3],\n",
    "                [2, 3],\n",
    "                [1, 3],\n",
    "                [1, 2, 3, 5],\n",
    "                [1, 2, 3]]\n",
    "\n",
    "patterns = pyfpgrowth.find_frequent_patterns(transactions, 2)\n",
    "rules = pyfpgrowth.generate_association_rules(patterns, 0.7)"
   ]
  },
  {
   "cell_type": "code",
   "execution_count": null,
   "metadata": {},
   "outputs": [],
   "source": []
  }
 ],
 "metadata": {
  "kernelspec": {
   "display_name": "Python 3",
   "language": "python",
   "name": "python3"
  },
  "language_info": {
   "codemirror_mode": {
    "name": "ipython",
    "version": 3
   },
   "file_extension": ".py",
   "mimetype": "text/x-python",
   "name": "python",
   "nbconvert_exporter": "python",
   "pygments_lexer": "ipython3",
   "version": "3.7.3"
  }
 },
 "nbformat": 4,
 "nbformat_minor": 2
}
